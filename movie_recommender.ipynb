{
 "cells": [
  {
   "cell_type": "code",
   "execution_count": 1,
   "metadata": {
    "collapsed": true
   },
   "outputs": [],
   "source": [
    "from numpy import *"
   ]
  },
  {
   "cell_type": "code",
   "execution_count": 2,
   "metadata": {
    "collapsed": true
   },
   "outputs": [],
   "source": [
    "num_movies = 10\n",
    "num_users = 5"
   ]
  },
  {
   "cell_type": "code",
   "execution_count": 3,
   "metadata": {},
   "outputs": [
    {
     "name": "stdout",
     "output_type": "stream",
     "text": [
      "[[ 5  6  5  9  0]\n",
      " [ 7  4  7  9  3]\n",
      " [ 3  9  9  6  8]\n",
      " [10  1  0  5  5]\n",
      " [ 3  7  7  1  8]\n",
      " [ 7  2  8  3  4]\n",
      " [ 7  6  7  1  8]\n",
      " [ 4  8  4  9  2]\n",
      " [ 6  8  5 10  0]\n",
      " [10  0 10  0  7]]\n"
     ]
    }
   ],
   "source": [
    "ratings = random.randint(11, size = (num_movies, num_users))\n",
    "\n",
    "\n",
    "\n",
    "\n",
    "print (ratings)"
   ]
  },
  {
   "cell_type": "code",
   "execution_count": 4,
   "metadata": {},
   "outputs": [
    {
     "name": "stdout",
     "output_type": "stream",
     "text": [
      "[[1 1 1 1 0]\n",
      " [1 1 1 1 1]\n",
      " [1 1 1 1 1]\n",
      " [1 1 0 1 1]\n",
      " [1 1 1 1 1]\n",
      " [1 1 1 1 1]\n",
      " [1 1 1 1 1]\n",
      " [1 1 1 1 1]\n",
      " [1 1 1 1 0]\n",
      " [1 0 1 0 1]]\n"
     ]
    }
   ],
   "source": [
    "did_rate = (ratings != 0) * 1\n",
    "\n",
    "\n",
    "\n",
    "\n",
    "print (did_rate)"
   ]
  },
  {
   "cell_type": "code",
   "execution_count": 5,
   "metadata": {},
   "outputs": [
    {
     "name": "stdout",
     "output_type": "stream",
     "text": [
      "[[ True  True  True  True False]\n",
      " [ True  True  True  True  True]\n",
      " [ True  True  True  True  True]\n",
      " [ True  True False  True  True]\n",
      " [ True  True  True  True  True]\n",
      " [ True  True  True  True  True]\n",
      " [ True  True  True  True  True]\n",
      " [ True  True  True  True  True]\n",
      " [ True  True  True  True False]\n",
      " [ True False  True False  True]]\n"
     ]
    }
   ],
   "source": [
    "print (ratings != 0)\n"
   ]
  },
  {
   "cell_type": "code",
   "execution_count": 7,
   "metadata": {},
   "outputs": [
    {
     "data": {
      "text/plain": [
       "(10, 5)"
      ]
     },
     "execution_count": 7,
     "metadata": {},
     "output_type": "execute_result"
    }
   ],
   "source": [
    "ratings.shape\n",
    "\n"
   ]
  },
  {
   "cell_type": "code",
   "execution_count": 8,
   "metadata": {},
   "outputs": [
    {
     "data": {
      "text/plain": [
       "(10, 5)"
      ]
     },
     "execution_count": 8,
     "metadata": {},
     "output_type": "execute_result"
    }
   ],
   "source": [
    "\n",
    "\n",
    "did_rate.shape"
   ]
  },
  {
   "cell_type": "code",
   "execution_count": 10,
   "metadata": {},
   "outputs": [
    {
     "name": "stdout",
     "output_type": "stream",
     "text": [
      "[[ 0.]\n",
      " [ 0.]\n",
      " [ 0.]\n",
      " [ 0.]\n",
      " [ 0.]\n",
      " [ 0.]\n",
      " [ 0.]\n",
      " [ 0.]\n",
      " [ 0.]\n",
      " [ 0.]]\n"
     ]
    }
   ],
   "source": [
    "nikhil_ratings = zeros((num_movies, 1))\n",
    "print (nikhil_ratings)\n"
   ]
  },
  {
   "cell_type": "code",
   "execution_count": 11,
   "metadata": {},
   "outputs": [
    {
     "name": "stdout",
     "output_type": "stream",
     "text": [
      "[[ 8.]\n",
      " [ 0.]\n",
      " [ 0.]\n",
      " [ 0.]\n",
      " [ 7.]\n",
      " [ 0.]\n",
      " [ 0.]\n",
      " [ 3.]\n",
      " [ 0.]\n",
      " [ 0.]]\n"
     ]
    }
   ],
   "source": [
    "nikhil_ratings[0] = 8\n",
    "nikhil_ratings[4] = 7\n",
    "nikhil_ratings[7] = 3\n",
    "\n",
    "print (nikhil_ratings)"
   ]
  },
  {
   "cell_type": "code",
   "execution_count": 13,
   "metadata": {},
   "outputs": [
    {
     "name": "stdout",
     "output_type": "stream",
     "text": [
      "[[  8.   5.   6.   5.   9.   0.]\n",
      " [  0.   7.   4.   7.   9.   3.]\n",
      " [  0.   3.   9.   9.   6.   8.]\n",
      " [  0.  10.   1.   0.   5.   5.]\n",
      " [  7.   3.   7.   7.   1.   8.]\n",
      " [  0.   7.   2.   8.   3.   4.]\n",
      " [  0.   7.   6.   7.   1.   8.]\n",
      " [  3.   4.   8.   4.   9.   2.]\n",
      " [  0.   6.   8.   5.  10.   0.]\n",
      " [  0.  10.   0.  10.   0.   7.]]\n"
     ]
    }
   ],
   "source": [
    "ratings = append(nikhil_ratings, ratings, axis = 1)\n",
    "did_rate = append(((nikhil_ratings != 0) * 1), did_rate, axis = 1)\n",
    "\n",
    "print(ratings)\n"
   ]
  },
  {
   "cell_type": "code",
   "execution_count": 14,
   "metadata": {},
   "outputs": [
    {
     "data": {
      "text/plain": [
       "(10, 6)"
      ]
     },
     "execution_count": 14,
     "metadata": {},
     "output_type": "execute_result"
    }
   ],
   "source": [
    "ratings.shape\n"
   ]
  },
  {
   "cell_type": "code",
   "execution_count": 15,
   "metadata": {},
   "outputs": [
    {
     "name": "stdout",
     "output_type": "stream",
     "text": [
      "[[1 1 1 1 1 0]\n",
      " [0 1 1 1 1 1]\n",
      " [0 1 1 1 1 1]\n",
      " [0 1 1 0 1 1]\n",
      " [1 1 1 1 1 1]\n",
      " [0 1 1 1 1 1]\n",
      " [0 1 1 1 1 1]\n",
      " [1 1 1 1 1 1]\n",
      " [0 1 1 1 1 0]\n",
      " [0 1 0 1 0 1]]\n"
     ]
    }
   ],
   "source": [
    "print (did_rate)"
   ]
  },
  {
   "cell_type": "code",
   "execution_count": 16,
   "metadata": {},
   "outputs": [
    {
     "data": {
      "text/plain": [
       "(10, 6)"
      ]
     },
     "execution_count": 16,
     "metadata": {},
     "output_type": "execute_result"
    }
   ],
   "source": [
    "did_rate.shape\n"
   ]
  },
  {
   "cell_type": "code",
   "execution_count": 18,
   "metadata": {},
   "outputs": [],
   "source": [
    "def normalize_ratings(ratings, did_rate):\n",
    "    num_movies = ratings.shape[0]\n",
    "    \n",
    "    ratings_mean = zeros(shape = (num_movies, 1))\n",
    "    ratings_norm = zeros(shape = ratings.shape)\n",
    "    \n",
    "    for i in range(num_movies): \n",
    "        # Get all the indexes where there is a 1\n",
    "        idx = where(did_rate[i] == 1)[0]\n",
    "        #  Calculate mean rating of ith movie only from user's that gave a rating\n",
    "        ratings_mean[i] = mean(ratings[i, idx])\n",
    "        ratings_norm[i, idx] = ratings[i, idx] - ratings_mean[i]\n",
    "    \n",
    "    return ratings_norm, ratings_mean"
   ]
  },
  {
   "cell_type": "code",
   "execution_count": 19,
   "metadata": {
    "collapsed": true
   },
   "outputs": [],
   "source": [
    "ratings, ratings_mean = normalize_ratings(ratings, did_rate)"
   ]
  },
  {
   "cell_type": "code",
   "execution_count": 20,
   "metadata": {
    "collapsed": true
   },
   "outputs": [],
   "source": [
    "num_users = ratings.shape[1]\n",
    "num_features = 3"
   ]
  },
  {
   "cell_type": "code",
   "execution_count": 22,
   "metadata": {},
   "outputs": [
    {
     "name": "stdout",
     "output_type": "stream",
     "text": [
      "[[1 2]\n",
      " [1 5]\n",
      " [1 9]]\n",
      "[[ 0.23]\n",
      " [ 0.34]]\n",
      "[[ 0.91]\n",
      " [ 1.93]\n",
      " [ 3.29]]\n"
     ]
    }
   ],
   "source": [
    "X = array([[1, 2], [1, 5], [1, 9]])\n",
    "Theta = array([[0.23], [0.34]])\n",
    "\n",
    "\n",
    "\n",
    "print (X)\n",
    "\n",
    "\n",
    "\n",
    "\n",
    "print (Theta)\n",
    "\n",
    "\n",
    "\n",
    "Y = X.dot(Theta)\n",
    "print (Y)"
   ]
  },
  {
   "cell_type": "code",
   "execution_count": 23,
   "metadata": {
    "collapsed": true
   },
   "outputs": [],
   "source": [
    "movie_features = random.randn( num_movies, num_features )\n",
    "user_prefs = random.randn( num_users, num_features )\n",
    "initial_X_and_theta = r_[movie_features.T.flatten(), user_prefs.T.flatten()]"
   ]
  },
  {
   "cell_type": "code",
   "execution_count": 25,
   "metadata": {},
   "outputs": [
    {
     "name": "stdout",
     "output_type": "stream",
     "text": [
      "[[ 1.74554414 -1.9041309  -0.33525391]\n",
      " [-1.00008694 -0.0758113  -0.95930623]\n",
      " [ 0.39202215 -0.61353475  0.21972597]\n",
      " [ 0.4178501  -1.829534    0.8496629 ]\n",
      " [ 1.17681095  1.79541829  0.63696113]\n",
      " [ 1.33543908  1.50566234 -0.02394895]\n",
      " [-0.09524814  0.82210359  1.76334716]\n",
      " [ 0.20144111  0.25176678 -0.80813968]\n",
      " [ 0.91121401 -0.00485061  1.13317495]\n",
      " [ 0.70507103 -0.49508446 -0.32262471]]\n"
     ]
    }
   ],
   "source": [
    "print( movie_features)"
   ]
  },
  {
   "cell_type": "code",
   "execution_count": 26,
   "metadata": {},
   "outputs": [
    {
     "name": "stdout",
     "output_type": "stream",
     "text": [
      "[[-0.07277566  0.03457819  1.25446789]\n",
      " [-0.26365453 -1.15036402  0.32573323]\n",
      " [ 0.52025037  1.79183399  2.01226529]\n",
      " [-0.29193796 -1.61345395  0.03366627]\n",
      " [ 0.5998965  -0.67544792 -0.31141588]\n",
      " [-1.3460922   0.38111134 -0.21163814]]\n"
     ]
    }
   ],
   "source": [
    "print (user_prefs)\n"
   ]
  },
  {
   "cell_type": "code",
   "execution_count": 28,
   "metadata": {},
   "outputs": [
    {
     "name": "stdout",
     "output_type": "stream",
     "text": [
      "[ 1.74554414 -1.00008694  0.39202215  0.4178501   1.17681095  1.33543908\n",
      " -0.09524814  0.20144111  0.91121401  0.70507103 -1.9041309  -0.0758113\n",
      " -0.61353475 -1.829534    1.79541829  1.50566234  0.82210359  0.25176678\n",
      " -0.00485061 -0.49508446 -0.33525391 -0.95930623  0.21972597  0.8496629\n",
      "  0.63696113 -0.02394895  1.76334716 -0.80813968  1.13317495 -0.32262471\n",
      " -0.07277566 -0.26365453  0.52025037 -0.29193796  0.5998965  -1.3460922\n",
      "  0.03457819 -1.15036402  1.79183399 -1.61345395 -0.67544792  0.38111134\n",
      "  1.25446789  0.32573323  2.01226529  0.03366627 -0.31141588 -0.21163814]\n"
     ]
    }
   ],
   "source": [
    "print (initial_X_and_theta)"
   ]
  },
  {
   "cell_type": "code",
   "execution_count": 29,
   "metadata": {},
   "outputs": [
    {
     "data": {
      "text/plain": [
       "(48,)"
      ]
     },
     "execution_count": 29,
     "metadata": {},
     "output_type": "execute_result"
    }
   ],
   "source": [
    "initial_X_and_theta.shape"
   ]
  },
  {
   "cell_type": "code",
   "execution_count": 30,
   "metadata": {},
   "outputs": [
    {
     "data": {
      "text/plain": [
       "(30,)"
      ]
     },
     "execution_count": 30,
     "metadata": {},
     "output_type": "execute_result"
    }
   ],
   "source": [
    "movie_features.T.flatten().shape"
   ]
  },
  {
   "cell_type": "code",
   "execution_count": 31,
   "metadata": {},
   "outputs": [
    {
     "data": {
      "text/plain": [
       "(18,)"
      ]
     },
     "execution_count": 31,
     "metadata": {},
     "output_type": "execute_result"
    }
   ],
   "source": [
    "user_prefs.T.flatten().shape"
   ]
  },
  {
   "cell_type": "code",
   "execution_count": 32,
   "metadata": {},
   "outputs": [
    {
     "data": {
      "text/plain": [
       "array([ 1.74554414, -1.00008694,  0.39202215,  0.4178501 ,  1.17681095,\n",
       "        1.33543908, -0.09524814,  0.20144111,  0.91121401,  0.70507103,\n",
       "       -1.9041309 , -0.0758113 , -0.61353475, -1.829534  ,  1.79541829,\n",
       "        1.50566234,  0.82210359,  0.25176678, -0.00485061, -0.49508446,\n",
       "       -0.33525391, -0.95930623,  0.21972597,  0.8496629 ,  0.63696113,\n",
       "       -0.02394895,  1.76334716, -0.80813968,  1.13317495, -0.32262471,\n",
       "       -0.07277566, -0.26365453,  0.52025037, -0.29193796,  0.5998965 ,\n",
       "       -1.3460922 ,  0.03457819, -1.15036402,  1.79183399, -1.61345395,\n",
       "       -0.67544792,  0.38111134,  1.25446789,  0.32573323,  2.01226529,\n",
       "        0.03366627, -0.31141588, -0.21163814])"
      ]
     },
     "execution_count": 32,
     "metadata": {},
     "output_type": "execute_result"
    }
   ],
   "source": [
    "initial_X_and_theta\n"
   ]
  },
  {
   "cell_type": "code",
   "execution_count": 34,
   "metadata": {},
   "outputs": [],
   "source": [
    "def unroll_params(X_and_theta, num_users, num_movies, num_features):\n",
    "    # Retrieve the X and theta matrixes from X_and_theta, based on their dimensions (num_features, num_movies, num_movies)\n",
    "    # --------------------------------------------------------------------------------------------------------------\n",
    "    # Get the first 30 (10 * 3) rows in the 48 X 1 column vector\n",
    "    first_30 = X_and_theta[:num_movies * num_features]\n",
    "    # Reshape this column vector into a 10 X 3 matrix\n",
    "    X = first_30.reshape((num_features, num_movies)).transpose()\n",
    "    # Get the rest of the 18 the numbers, after the first 30\n",
    "    last_18 = X_and_theta[num_movies * num_features:]\n",
    "    # Reshape this column vector into a 6 X 3 matrix\n",
    "    theta = last_18.reshape(num_features, num_users ).transpose()\n",
    "    return X, theta"
   ]
  },
  {
   "cell_type": "code",
   "execution_count": 35,
   "metadata": {
    "collapsed": true
   },
   "outputs": [],
   "source": [
    "def calculate_gradient(X_and_theta, ratings, did_rate, num_users, num_movies, num_features, reg_param):\n",
    "    X, theta = unroll_params(X_and_theta, num_users, num_movies, num_features)\n",
    "    \n",
    "    # we multiply by did_rate because we only want to consider observations for which a rating was given\n",
    "    difference = X.dot( theta.T ) * did_rate - ratings\n",
    "    X_grad = difference.dot( theta ) + reg_param * X\n",
    "    theta_grad = difference.T.dot( X ) + reg_param * theta\n",
    "    \n",
    "    # wrap the gradients back into a column vector \n",
    "    return r_[X_grad.T.flatten(), theta_grad.T.flatten()]"
   ]
  },
  {
   "cell_type": "code",
   "execution_count": 36,
   "metadata": {
    "collapsed": true
   },
   "outputs": [],
   "source": [
    "def calculate_cost(X_and_theta, ratings, did_rate, num_users, num_movies, num_features, reg_param):\n",
    "    X, theta = unroll_params(X_and_theta, num_users, num_movies, num_features)\n",
    "\n",
    "    # we multiply (element-wise) by did_rate because we only want to consider observations for which a rating was given\n",
    "    cost = sum( (X.dot( theta.T ) * did_rate - ratings) ** 2 ) / 2\n",
    "    # '**' means an element-wise power\n",
    "    regularization = (reg_param / 2) * (sum( theta**2 ) + sum(X**2))\n",
    "    return cost + regularization"
   ]
  },
  {
   "cell_type": "code",
   "execution_count": 37,
   "metadata": {
    "collapsed": true
   },
   "outputs": [],
   "source": [
    "from scipy import optimize\n",
    "\n",
    "\n",
    "\n",
    "\n",
    "reg_param = 30\n"
   ]
  },
  {
   "cell_type": "code",
   "execution_count": 38,
   "metadata": {},
   "outputs": [
    {
     "name": "stdout",
     "output_type": "stream",
     "text": [
      "Optimization terminated successfully.\n",
      "         Current function value: 130.900000\n",
      "         Iterations: 11\n",
      "         Function evaluations: 22\n",
      "         Gradient evaluations: 22\n"
     ]
    }
   ],
   "source": [
    "minimized_cost_and_optimal_params = optimize.fmin_cg(calculate_cost, fprime=calculate_gradient, x0=initial_X_and_theta,\n",
    "                                                     args=(ratings, did_rate, num_users, num_movies, num_features, reg_param), \n",
    "                                                     maxiter=100, disp=True, full_output=True ) \n",
    "\n",
    "\n"
   ]
  },
  {
   "cell_type": "code",
   "execution_count": 39,
   "metadata": {
    "collapsed": true
   },
   "outputs": [],
   "source": [
    "cost, optimal_movie_features_and_user_prefs = minimized_cost_and_optimal_params[1], minimized_cost_and_optimal_params[0]\n",
    "\n"
   ]
  },
  {
   "cell_type": "code",
   "execution_count": 40,
   "metadata": {
    "collapsed": true
   },
   "outputs": [],
   "source": [
    "movie_features, user_prefs = unroll_params(optimal_movie_features_and_user_prefs, num_users, num_movies, num_features)\n"
   ]
  },
  {
   "cell_type": "code",
   "execution_count": null,
   "metadata": {
    "collapsed": true
   },
   "outputs": [],
   "source": []
  }
 ],
 "metadata": {
  "kernelspec": {
   "display_name": "Python 3",
   "language": "python",
   "name": "python3"
  },
  "language_info": {
   "codemirror_mode": {
    "name": "ipython",
    "version": 3
   },
   "file_extension": ".py",
   "mimetype": "text/x-python",
   "name": "python",
   "nbconvert_exporter": "python",
   "pygments_lexer": "ipython3",
   "version": "3.6.1"
  }
 },
 "nbformat": 4,
 "nbformat_minor": 2
}
