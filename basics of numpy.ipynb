{
 "cells": [
  {
   "cell_type": "code",
   "execution_count": 5,
   "metadata": {},
   "outputs": [
    {
     "name": "stdout",
     "output_type": "stream",
     "text": [
      "[[1 2]\n",
      " [2 3]]\n"
     ]
    }
   ],
   "source": [
    "from numpy import *\n",
    "data=array([[1,2],[2,3]])\n",
    "print(data)"
   ]
  },
  {
   "cell_type": "code",
   "execution_count": 6,
   "metadata": {},
   "outputs": [
    {
     "data": {
      "text/plain": [
       "(2, 2)"
      ]
     },
     "execution_count": 6,
     "metadata": {},
     "output_type": "execute_result"
    }
   ],
   "source": [
    "#order of the matrix\n",
    "data.shape"
   ]
  },
  {
   "cell_type": "code",
   "execution_count": 9,
   "metadata": {},
   "outputs": [
    {
     "name": "stdout",
     "output_type": "stream",
     "text": [
      "[[ 0.  0.  0.  0.]\n",
      " [ 0.  0.  0.  0.]\n",
      " [ 0.  0.  0.  0.]\n",
      " [ 0.  0.  0.  0.]\n",
      " [ 0.  0.  0.  0.]\n",
      " [ 0.  0.  0.  0.]\n",
      " [ 0.  0.  0.  0.]\n",
      " [ 0.  0.  0.  0.]\n",
      " [ 0.  0.  0.  0.]\n",
      " [ 0.  0.  0.  0.]]\n"
     ]
    }
   ],
   "source": [
    "#zero matrix of order 10x4\n",
    "zero_matrix=zeros((10,4))\n",
    "print(zero_matrix)"
   ]
  },
  {
   "cell_type": "code",
   "execution_count": 10,
   "metadata": {},
   "outputs": [
    {
     "name": "stdout",
     "output_type": "stream",
     "text": [
      "[[ 1.  1.  1.  1.]\n",
      " [ 1.  1.  1.  1.]\n",
      " [ 1.  1.  1.  1.]\n",
      " [ 1.  1.  1.  1.]\n",
      " [ 1.  1.  1.  1.]\n",
      " [ 1.  1.  1.  1.]\n",
      " [ 1.  1.  1.  1.]\n",
      " [ 1.  1.  1.  1.]\n",
      " [ 1.  1.  1.  1.]\n",
      " [ 1.  1.  1.  1.]]\n"
     ]
    }
   ],
   "source": [
    "#ones matrix of order 10x4\n",
    "one_matrix=ones((10,4))\n",
    "print(one_matrix)"
   ]
  },
  {
   "cell_type": "code",
   "execution_count": 12,
   "metadata": {},
   "outputs": [
    {
     "name": "stdout",
     "output_type": "stream",
     "text": [
      "[[5 7 8 3 7]\n",
      " [6 0 1 6 4]\n",
      " [8 3 5 9 5]\n",
      " [3 9 9 3 2]\n",
      " [0 0 2 8 8]]\n"
     ]
    }
   ],
   "source": [
    "#random matrix of integers in range[0,9] with order 5x5\n",
    "rand_matrix=random.randint(10,size=(5,5))\n",
    "print(rand_matrix)"
   ]
  },
  {
   "cell_type": "code",
   "execution_count": 14,
   "metadata": {},
   "outputs": [
    {
     "name": "stdout",
     "output_type": "stream",
     "text": [
      "[[7]\n",
      " [0]\n",
      " [2]\n",
      " [8]\n",
      " [0]]\n"
     ]
    }
   ],
   "source": [
    "#column vector of random integers in range [0,9] with order 5x1\n",
    "col_vector=random.randint(10,size=(5,1))\n",
    "print(col_vector)"
   ]
  },
  {
   "cell_type": "code",
   "execution_count": 16,
   "metadata": {},
   "outputs": [
    {
     "name": "stdout",
     "output_type": "stream",
     "text": [
      "[0]\n"
     ]
    }
   ],
   "source": [
    "#print element at index 1 of column vector\n",
    "print(col_vector[1])"
   ]
  },
  {
   "cell_type": "code",
   "execution_count": 17,
   "metadata": {},
   "outputs": [
    {
     "name": "stdout",
     "output_type": "stream",
     "text": [
      "5\n"
     ]
    }
   ],
   "source": [
    "#print first element of random matrix\n",
    "print(rand_matrix[0,0])"
   ]
  },
  {
   "cell_type": "code",
   "execution_count": 18,
   "metadata": {},
   "outputs": [
    {
     "name": "stdout",
     "output_type": "stream",
     "text": [
      "[[5]\n",
      " [6]\n",
      " [8]\n",
      " [3]\n",
      " [0]]\n"
     ]
    }
   ],
   "source": [
    "#print the first column\n",
    "print(rand_matrix[:,0:1])"
   ]
  },
  {
   "cell_type": "code",
   "execution_count": 19,
   "metadata": {},
   "outputs": [
    {
     "name": "stdout",
     "output_type": "stream",
     "text": [
      "[[5 7 8 3 7]]\n"
     ]
    }
   ],
   "source": [
    "#print the first row\n",
    "print(rand_matrix[0:1,:])"
   ]
  },
  {
   "cell_type": "code",
   "execution_count": 20,
   "metadata": {},
   "outputs": [
    {
     "name": "stdout",
     "output_type": "stream",
     "text": [
      "[[6 0 1 6 4]]\n"
     ]
    }
   ],
   "source": [
    "#print second row\n",
    "print(rand_matrix[1:2,:])"
   ]
  },
  {
   "cell_type": "code",
   "execution_count": 22,
   "metadata": {},
   "outputs": [
    {
     "name": "stdout",
     "output_type": "stream",
     "text": [
      "[[[7 8 3]]\n",
      "\n",
      " [[0 1 6]]]\n"
     ]
    }
   ],
   "source": [
    "#print c1,c2,c3 of rows 0 ans 1\n",
    "cols=array([[1,2,3]])\n",
    "print(rand_matrix[0:2,cols])"
   ]
  },
  {
   "cell_type": "code",
   "execution_count": 23,
   "metadata": {},
   "outputs": [
    {
     "name": "stdout",
     "output_type": "stream",
     "text": [
      "[5 7 8 3 7 6 0 1 6 4 8 3 5 9 5 3 9 9 3 2 0 0 2 8 8]\n"
     ]
    }
   ],
   "source": [
    "#convert from 2d array to 1d array\n",
    "flattened=rand_matrix.flatten()\n",
    "print(flattened)"
   ]
  },
  {
   "cell_type": "code",
   "execution_count": 24,
   "metadata": {},
   "outputs": [
    {
     "name": "stdout",
     "output_type": "stream",
     "text": [
      "[[6 5 3 9 5]\n",
      " [5 9 2 7 8]\n",
      " [3 9 3 1 6]\n",
      " [1 7 6 2 2]\n",
      " [6 3 1 5 4]]\n"
     ]
    }
   ],
   "source": [
    "rand_matrix2=random.randint(10,size=(5,5))\n",
    "print(rand_matrix2)"
   ]
  },
  {
   "cell_type": "code",
   "execution_count": 25,
   "metadata": {},
   "outputs": [
    {
     "name": "stdout",
     "output_type": "stream",
     "text": [
      "[[134 202  78 143 163]\n",
      " [ 69  93  61  87  64]\n",
      " [117 190 104 141 132]\n",
      " [105 204  74 115 155]\n",
      " [ 62  98  62  58  60]]\n"
     ]
    }
   ],
   "source": [
    "#dot product of matrix\n",
    "dot_product=rand_matrix.dot(rand_matrix2)\n",
    "print(dot_product)"
   ]
  },
  {
   "cell_type": "code",
   "execution_count": null,
   "metadata": {
    "collapsed": true
   },
   "outputs": [],
   "source": []
  }
 ],
 "metadata": {
  "kernelspec": {
   "display_name": "Python 3",
   "language": "python",
   "name": "python3"
  },
  "language_info": {
   "codemirror_mode": {
    "name": "ipython",
    "version": 3
   },
   "file_extension": ".py",
   "mimetype": "text/x-python",
   "name": "python",
   "nbconvert_exporter": "python",
   "pygments_lexer": "ipython3",
   "version": "3.6.1"
  }
 },
 "nbformat": 4,
 "nbformat_minor": 2
}
